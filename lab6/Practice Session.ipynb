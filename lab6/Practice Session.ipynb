{
 "metadata": {
  "name": ""
 },
 "nbformat": 3,
 "nbformat_minor": 0,
 "worksheets": [
  {
   "cells": [
    {
     "cell_type": "code",
     "collapsed": false,
     "input": [
      "def bigram_mapper(line):\n",
      "    retArr = []\n",
      "    line = line.split(\" \")\n",
      "    if len(line) > 1:\n",
      "        for i in range(1, len(line)):\n",
      "            retArr += [(line[i-1] + \" \" + line[i], 1)]\n",
      "    return retArr\n",
      "\n",
      "line = \"1 2 3\"\n",
      "bigram_mapper(line)"
     ],
     "language": "python",
     "metadata": {},
     "outputs": [
      {
       "metadata": {},
       "output_type": "pyout",
       "prompt_number": 42,
       "text": [
        "[('1 2', 1), ('2 3', 1)]"
       ]
      }
     ],
     "prompt_number": 42
    },
    {
     "cell_type": "code",
     "collapsed": false,
     "input": [
      "def bigram_word_map(bcount):\n",
      "    bigram, count = bcount\n",
      "    bigram = bigram.split(\" \")\n",
      "    if len(bigram) != 2:\n",
      "        print \"Bigram incorrect size: \", bigram\n",
      "        raise\n",
      "    left, right = bigram\n",
      "    \n",
      "    retArr = []\n",
      "    retArr = retArr + [(left, bcount)]\n",
      "    retArr = retArr + [(right, bcount)]\n",
      "    return retArr\n",
      "    \n",
      "bigram_sender((\"hi bob\", 4))"
     ],
     "language": "python",
     "metadata": {},
     "outputs": [
      {
       "metadata": {},
       "output_type": "pyout",
       "prompt_number": 43,
       "text": [
        "[('hi', ('hi bob', 4)), ('bob', ('hi bob', 4))]"
       ]
      }
     ],
     "prompt_number": 43
    },
    {
     "cell_type": "code",
     "collapsed": false,
     "input": [
      "top_count = 5\n",
      "top = [None for x in range(0,top_count)]\n",
      "top"
     ],
     "language": "python",
     "metadata": {},
     "outputs": [
      {
       "metadata": {},
       "output_type": "pyout",
       "prompt_number": 2,
       "text": [
        "[None, None, None, None, None]"
       ]
      }
     ],
     "prompt_number": 2
    },
    {
     "cell_type": "code",
     "collapsed": false,
     "input": [
      "def bigram_word_reducer(itera):\n",
      "    top = [None, None, None, None, None]\n",
      "    for bigram in itera:\n",
      "        val = int(bigram[1])\n",
      "        for i in range(0, len(top)):\n",
      "            if (top[i] == None):\n",
      "                # This means it is null at the point.\n",
      "                # Only if it's the last one, do something\n",
      "                if i == len(top)-1:\n",
      "                    top[i] = bigram_cont\n",
      "            elif val < int(top[i][1]):\n",
      "                if i > 0:\n",
      "                    top[i-1] = bigram_cont\n",
      "                    break\n",
      "            else:\n",
      "                # The value is greater than or equal to the current value!\n",
      "                if i > 0:\n",
      "                    top[i-1] = top[i]\n",
      "                    # If at the end of the array, place yourself on!\n",
      "                    if i == len(top) - 1:\n",
      "                        top[i] = bigram_cont\n",
      "    res = []\n",
      "    for i in reversed(range(0, len(top))):\n",
      "        if (top[i] == None):\n",
      "            break\n",
      "        res = res + [top[i]]\n",
      "    return res"
     ],
     "language": "python",
     "metadata": {},
     "outputs": [],
     "prompt_number": 91
    },
    {
     "cell_type": "code",
     "collapsed": false,
     "input": [
      "itera = [('hi bob', 4), ('hi joe', 2)]\n",
      "for i in bigram_word_reducer(itera):\n",
      "    print i"
     ],
     "language": "python",
     "metadata": {},
     "outputs": [
      {
       "ename": "NameError",
       "evalue": "global name 'bigram_cont' is not defined",
       "output_type": "pyerr",
       "traceback": [
        "\u001b[0;31m---------------------------------------------------------------------------\u001b[0m\n\u001b[0;31mNameError\u001b[0m                                 Traceback (most recent call last)",
        "\u001b[0;32m<ipython-input-92-1d1a03358f44>\u001b[0m in \u001b[0;36m<module>\u001b[0;34m()\u001b[0m\n\u001b[1;32m      1\u001b[0m \u001b[0mitera\u001b[0m \u001b[0;34m=\u001b[0m \u001b[0;34m[\u001b[0m\u001b[0;34m(\u001b[0m\u001b[0;34m'hi bob'\u001b[0m\u001b[0;34m,\u001b[0m \u001b[0;36m4\u001b[0m\u001b[0;34m)\u001b[0m\u001b[0;34m,\u001b[0m \u001b[0;34m(\u001b[0m\u001b[0;34m'hi joe'\u001b[0m\u001b[0;34m,\u001b[0m \u001b[0;36m2\u001b[0m\u001b[0;34m)\u001b[0m\u001b[0;34m]\u001b[0m\u001b[0;34m\u001b[0m\u001b[0m\n\u001b[0;32m----> 2\u001b[0;31m \u001b[0;32mfor\u001b[0m \u001b[0mi\u001b[0m \u001b[0;32min\u001b[0m \u001b[0mbigram_word_reducer\u001b[0m\u001b[0;34m(\u001b[0m\u001b[0mitera\u001b[0m\u001b[0;34m)\u001b[0m\u001b[0;34m:\u001b[0m\u001b[0;34m\u001b[0m\u001b[0m\n\u001b[0m\u001b[1;32m      3\u001b[0m     \u001b[0;32mprint\u001b[0m \u001b[0mi\u001b[0m\u001b[0;34m\u001b[0m\u001b[0m\n",
        "\u001b[0;32m<ipython-input-91-4cac1a330165>\u001b[0m in \u001b[0;36mbigram_word_reducer\u001b[0;34m(itera)\u001b[0m\n\u001b[1;32m      8\u001b[0m                 \u001b[0;31m# Only if it's the last one, do something\u001b[0m\u001b[0;34m\u001b[0m\u001b[0;34m\u001b[0m\u001b[0m\n\u001b[1;32m      9\u001b[0m                 \u001b[0;32mif\u001b[0m \u001b[0mi\u001b[0m \u001b[0;34m==\u001b[0m \u001b[0mlen\u001b[0m\u001b[0;34m(\u001b[0m\u001b[0mtop\u001b[0m\u001b[0;34m)\u001b[0m\u001b[0;34m-\u001b[0m\u001b[0;36m1\u001b[0m\u001b[0;34m:\u001b[0m\u001b[0;34m\u001b[0m\u001b[0m\n\u001b[0;32m---> 10\u001b[0;31m                     \u001b[0mtop\u001b[0m\u001b[0;34m[\u001b[0m\u001b[0mi\u001b[0m\u001b[0;34m]\u001b[0m \u001b[0;34m=\u001b[0m \u001b[0mbigram_cont\u001b[0m\u001b[0;34m\u001b[0m\u001b[0m\n\u001b[0m\u001b[1;32m     11\u001b[0m             \u001b[0;32melif\u001b[0m \u001b[0mval\u001b[0m \u001b[0;34m<\u001b[0m \u001b[0mint\u001b[0m\u001b[0;34m(\u001b[0m\u001b[0mtop\u001b[0m\u001b[0;34m[\u001b[0m\u001b[0mi\u001b[0m\u001b[0;34m]\u001b[0m\u001b[0;34m[\u001b[0m\u001b[0;36m1\u001b[0m\u001b[0;34m]\u001b[0m\u001b[0;34m)\u001b[0m\u001b[0;34m:\u001b[0m\u001b[0;34m\u001b[0m\u001b[0m\n\u001b[1;32m     12\u001b[0m                 \u001b[0;32mif\u001b[0m \u001b[0mi\u001b[0m \u001b[0;34m>\u001b[0m \u001b[0;36m0\u001b[0m\u001b[0;34m:\u001b[0m\u001b[0;34m\u001b[0m\u001b[0m\n",
        "\u001b[0;31mNameError\u001b[0m: global name 'bigram_cont' is not defined"
       ]
      }
     ],
     "prompt_number": 92
    },
    {
     "cell_type": "code",
     "collapsed": false,
     "input": [
      "final_result = mapped_counts.groupByKey().flatMap(lambda bi_glob:(bi_glob[0][0], bigram_word_reducer(bi_glob[0][1])))"
     ],
     "language": "python",
     "metadata": {},
     "outputs": []
    }
   ],
   "metadata": {}
  }
 ]
}