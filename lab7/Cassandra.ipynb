{
 "metadata": {
  "name": ""
 },
 "nbformat": 3,
 "nbformat_minor": 0,
 "worksheets": [
  {
   "cells": [
    {
     "cell_type": "code",
     "collapsed": false,
     "input": [
      "#!/usr/bin/env python\n",
      "\n",
      "# Copyright 2013-2014 DataStax, Inc.\n",
      "#\n",
      "# Licensed under the Apache License, Version 2.0 (the \"License\");\n",
      "# you may not use this file except in compliance with the License.\n",
      "# You may obtain a copy of the License at\n",
      "#\n",
      "# http://www.apache.org/licenses/LICENSE-2.0\n",
      "#\n",
      "# Unless required by applicable law or agreed to in writing, software\n",
      "# distributed under the License is distributed on an \"AS IS\" BASIS,\n",
      "# WITHOUT WARRANTIES OR CONDITIONS OF ANY KIND, either express or implied.\n",
      "# See the License for the specific language governing permissions and\n",
      "# limitations under the License.\n",
      "\n",
      "import logging\n",
      "\n",
      "log = logging.getLogger()\n",
      "#log.setLevel('DEBUG')\n",
      "log.setLevel('WARN')\n",
      "handler = logging.StreamHandler()\n",
      "handler.setFormatter(logging.Formatter(\"%(asctime)s [%(levelname)s] %(name)s: %(message)s\"))\n",
      "log.addHandler(handler)\n",
      "\n",
      "from cassandra import ConsistencyLevel\n",
      "from cassandra.cluster import Cluster\n",
      "from cassandra.query import SimpleStatement"
     ],
     "language": "python",
     "metadata": {},
     "outputs": [
      {
       "output_type": "stream",
       "stream": "stderr",
       "text": [
        "/usr/local/lib/python2.7/dist-packages/cassandra/util.py:360: UserWarning: The blist library is not available, so a pure python list-based set will be used in place of blist.sortedset for set collection values. You can find the blist library here: https://pypi.python.org/pypi/blist/\n",
        "  \"The blist library is not available, so a pure python list-based set will \"\n"
       ]
      }
     ],
     "prompt_number": 1
    },
    {
     "cell_type": "code",
     "collapsed": false,
     "input": [
      "KEYSPACE = \"partone\"\n",
      "\n",
      "cluster = Cluster(['127.0.0.1'])\n",
      "session = cluster.connect()\n",
      "\n",
      "log.info(\"creating keyspace...\")\n",
      "session.execute(\"\"\"\n",
      "    CREATE KEYSPACE IF NOT EXISTS %s\n",
      "    WITH replication = { 'class': 'SimpleStrategy', 'replication_factor': '2' }\n",
      "    \"\"\" % KEYSPACE)\n",
      "\n",
      "log.info(\"setting keyspace...\")\n",
      "session.set_keyspace(KEYSPACE)\n",
      "\n",
      "log.info(\"dropping table...\")\n",
      "session.execute(\"\"\"\n",
      "    DROP TABLE IF EXISTS adtable\n",
      "    \"\"\")\n",
      "\n",
      "log.info(\"creating table...\")\n",
      "session.execute(\"\"\"\n",
      "    CREATE TABLE IF NOT EXISTS adtable (\n",
      "        ownerid int,\n",
      "        adid int,\n",
      "        numclicks int,\n",
      "        numimpressions int,\n",
      "        ctr float,\n",
      "        PRIMARY KEY (OwnerId, AdId)\n",
      "    )\n",
      "    \"\"\")\n",
      "\n",
      "inputCommand = session.prepare(\"\"\"\n",
      "    INSERT INTO adTable (ownerid, adid, numclicks, numimpressions, ctr)\n",
      "    VALUES (?, ?, ?, ?, ?)\n",
      "    \"\"\")\n",
      "\n",
      "inputArgs = [(1,1,1,10),(1,2,0,5),(1,3,1,20),(1,4,0,15),(2,1,0,10),(2,2,0,55),(2,3,0,13),(2,4,0,21),(3,1,1,32),(3,2,0,23),(3,3,2,44),(3,4,1,36)]\n",
      "\n",
      "for (oId, aId, nC, nI) in inputArgs:\n",
      "    log.info(\"inserting row %d, %d, %d, %d\" % (oId, aId, nC, nI))\n",
      "    session.execute(inputCommand, (oId, aId, nC, nI, float(nC)/float(nI)))\n"
     ],
     "language": "python",
     "metadata": {},
     "outputs": [],
     "prompt_number": 2
    },
    {
     "cell_type": "code",
     "collapsed": false,
     "input": [
      "# \t- Find the ctr (numClicks/numImpressions) for each OwnerId, AdId pair.\n",
      "mission1 = session.execute_async(\"SELECT ownerid, adid, ctr FROM adtable\")\n",
      "try:\n",
      "    rows = mission1.result()\n",
      "except Exception:\n",
      "    log.exeception()\n",
      "    \n",
      "print \"ownerid\\tadid\\tctr\"\n",
      "for row in rows:\n",
      "    print \"\\t\".join([str(row.ownerid), str(row.adid), str(row.ctr)])"
     ],
     "language": "python",
     "metadata": {},
     "outputs": [
      {
       "output_type": "stream",
       "stream": "stdout",
       "text": [
        "ownerid\tadid\tctr\n",
        "1\t1\t0.10000000149\n",
        "1\t2\t0.0\n",
        "1\t3\t0.0500000007451\n",
        "1\t4\t0.0\n",
        "2\t1\t0.0\n",
        "2\t2\t0.0\n",
        "2\t3\t0.0\n",
        "2\t4\t0.0\n",
        "3\t1\t0.03125\n",
        "3\t2\t0.0\n",
        "3\t3\t0.0454545468092\n",
        "3\t4\t0.0277777779847\n"
       ]
      }
     ],
     "prompt_number": 17
    },
    {
     "cell_type": "code",
     "collapsed": false,
     "input": [
      "# \t- Compute the ctr for each OwnerId.\n",
      "mission2 = session.execute_async(\"SELECT ownerid, ctr FROM adtable\")\n",
      "ownerSum = {}\n",
      "try:\n",
      "    rows = mission2.result()\n",
      "except Exception:\n",
      "    log.exeception()\n",
      "\n",
      "for row in rows:\n",
      "    if ownerSum.has_key(row.ownerid):\n",
      "        ownerSum[row.ownerid] += row.ctr\n",
      "    else:\n",
      "        ownerSum[row.ownerid] = row.ctr\n",
      "\n",
      "print \"ownerid\\tctr\"\n",
      "for keyval in ownerSum.keys():\n",
      "    print \"\\t\".join([str(keyval), str(ownerSum[keyval])])"
     ],
     "language": "python",
     "metadata": {},
     "outputs": [
      {
       "output_type": "stream",
       "stream": "stdout",
       "text": [
        "ownerid\tctr\n",
        "1\t0.150000002235\n",
        "2\t0.0\n",
        "3\t0.104482324794\n"
       ]
      }
     ],
     "prompt_number": 20
    },
    {
     "cell_type": "code",
     "collapsed": false,
     "input": [
      "# \t- Compute the ctr for OwnerId = 1, AdId = 3.\n",
      "mission3 = session.execute_async(\"SELECT ownerid, adid, ctr FROM adtable WHERE ownerid = 1 AND adid = 3\")\n",
      "try:\n",
      "    rows = mission3.result()\n",
      "except Exception:\n",
      "    log.exeception()\n",
      "    \n",
      "\n",
      "print \"ownerid\\tadid\\tctr\"\n",
      "for row in rows:\n",
      "    print \"\\t\".join([str(row.ownerid), str(row.adid), str(row.ctr)])    "
     ],
     "language": "python",
     "metadata": {},
     "outputs": [
      {
       "output_type": "stream",
       "stream": "stdout",
       "text": [
        "ownerid\tadid\tctr\n",
        "1\t3\t0.0500000007451\n"
       ]
      }
     ],
     "prompt_number": 21
    },
    {
     "cell_type": "code",
     "collapsed": false,
     "input": [
      "# \t- Compute the ctr for OwnerId = 2.\n",
      "mission4 = session.execute_async(\"SELECT ownerid, ctr FROM adtable WHERE ownerid = 2\")\n",
      "\n",
      "try:\n",
      "    rows = mission4.result()\n",
      "except Exception:\n",
      "    log.exeception()\n",
      "\n",
      "mySum = 0\n",
      "for row in rows:\n",
      "    mySum += row.ctr\n",
      "\n",
      "print \"ownerid\\tctr\"\n",
      "print \"\\t\".join([\"2\", str(mySum)])"
     ],
     "language": "python",
     "metadata": {},
     "outputs": [
      {
       "output_type": "stream",
       "stream": "stdout",
       "text": [
        "ownerid\tctr\n",
        "2\t0.0\n"
       ]
      }
     ],
     "prompt_number": 23
    },
    {
     "cell_type": "code",
     "collapsed": false,
     "input": [
      "# Drop the keyspace\n",
      "session.execute(\"DROP KEYSPACE \" + KEYSPACE)"
     ],
     "language": "python",
     "metadata": {},
     "outputs": [],
     "prompt_number": 24
    },
    {
     "cell_type": "code",
     "collapsed": false,
     "input": [],
     "language": "python",
     "metadata": {},
     "outputs": []
    }
   ],
   "metadata": {}
  }
 ]
}