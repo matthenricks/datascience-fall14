{
 "metadata": {
  "name": ""
 },
 "nbformat": 3,
 "nbformat_minor": 0,
 "worksheets": [
  {
   "cells": [
    {
     "cell_type": "markdown",
     "metadata": {},
     "source": [
      "There are many excellent Python and IPython tutorials out there. This Notebook contains a few snippets of code from here and there, but we suggest you go over some in-depth tutorials, especially if you are not familiar with Python. \n",
      "\n",
      "Here we borrow some material from:\n",
      "\n",
      "- [A Crash Course in Python for Scientists](http://nbviewer.ipython.org/gist/rpmuller/5920182) (which itself contains some nice links to other tutorials), \n",
      "- [matplotlib examples](http://matplotlib.org/gallery.html#),\n",
      "- [Chapter 1 from Pandas Cookbook](http://nbviewer.ipython.org/github/jvns/pandas-cookbook/tree/master/cookbook/)\n",
      "\n",
      "This short introduction is itself written in IPython Notebook. To get started: open a Terminal, and type **ipython notebook**. Then create a new notebook.\n",
      "\n",
      "As a starting point, you can simply type in expressions into the python shell in the browser."
     ]
    },
    {
     "cell_type": "code",
     "collapsed": false,
     "input": [
      "2+2"
     ],
     "language": "python",
     "metadata": {},
     "outputs": [
      {
       "metadata": {},
       "output_type": "pyout",
       "prompt_number": 1,
       "text": [
        "4"
       ]
      }
     ],
     "prompt_number": 1
    },
    {
     "cell_type": "markdown",
     "metadata": {},
     "source": [
      "Enter will continue the **cell**. If you want to execute the commands, you can either press the **play** button, or use Shift+Enter"
     ]
    },
    {
     "cell_type": "code",
     "collapsed": false,
     "input": [
      "days_of_the_week = [\"Sunday\",\"Monday\",\"Tuesday\",\"Wednesday\",\"Thursday\",\"Friday\",\"Saturday\"]\n",
      "for day in days_of_the_week:\n",
      "    statement = \"Today is \" + day\n",
      "    print statement"
     ],
     "language": "python",
     "metadata": {},
     "outputs": [
      {
       "output_type": "stream",
       "stream": "stdout",
       "text": [
        "Today is Sunday\n",
        "Today is Monday\n",
        "Today is Tuesday\n",
        "Today is Wednesday\n",
        "Today is Thursday\n",
        "Today is Friday\n",
        "Today is Saturday\n"
       ]
      }
     ],
     "prompt_number": 2
    },
    {
     "cell_type": "markdown",
     "metadata": {},
     "source": [
      "The above code uses a List. In case you haven't realized this yet, Python uses \"indentation\" to decide the scope, so there is no need to enclose code within {} or similar constructs. \n",
      "\n",
      "The other data structures in Python include Tuples and Dictionaries. Tuples are similar to Lists, but are immutable so we can't modify it (say by appending). Dictionaries are similar to Maps."
     ]
    },
    {
     "cell_type": "code",
     "collapsed": false,
     "input": [
      "tuple1 = (1,2,'hi',9.0)\n",
      "tuple1"
     ],
     "language": "python",
     "metadata": {},
     "outputs": [
      {
       "metadata": {},
       "output_type": "pyout",
       "prompt_number": 3,
       "text": [
        "(1, 2, 'hi', 9.0)"
       ]
      }
     ],
     "prompt_number": 3
    },
    {
     "cell_type": "code",
     "collapsed": false,
     "input": [
      "tuple1.append(7)"
     ],
     "language": "python",
     "metadata": {},
     "outputs": [
      {
       "ename": "AttributeError",
       "evalue": "'tuple' object has no attribute 'append'",
       "output_type": "pyerr",
       "traceback": [
        "\u001b[0;31m---------------------------------------------------------------------------\u001b[0m\n\u001b[0;31mAttributeError\u001b[0m                            Traceback (most recent call last)",
        "\u001b[0;32m<ipython-input-4-814036737580>\u001b[0m in \u001b[0;36m<module>\u001b[0;34m()\u001b[0m\n\u001b[0;32m----> 1\u001b[0;31m \u001b[0mtuple1\u001b[0m\u001b[0;34m.\u001b[0m\u001b[0mappend\u001b[0m\u001b[0;34m(\u001b[0m\u001b[0;36m7\u001b[0m\u001b[0;34m)\u001b[0m\u001b[0;34m\u001b[0m\u001b[0m\n\u001b[0m",
        "\u001b[0;31mAttributeError\u001b[0m: 'tuple' object has no attribute 'append'"
       ]
      }
     ],
     "prompt_number": 4
    },
    {
     "cell_type": "code",
     "collapsed": false,
     "input": [
      "ages_dictionary = {\"Rick\": 46, \"Bob\": 86, \"Fred\": 21}\n",
      "print \"Rick's age is \", ages_dictionary[\"Rick\"]"
     ],
     "language": "python",
     "metadata": {},
     "outputs": [
      {
       "output_type": "stream",
       "stream": "stdout",
       "text": [
        "Rick's age is  46\n"
       ]
      }
     ],
     "prompt_number": 5
    },
    {
     "cell_type": "heading",
     "level": 3,
     "metadata": {},
     "source": [
      "Functions"
     ]
    },
    {
     "cell_type": "code",
     "collapsed": false,
     "input": [
      "def fibonacci(sequence_length):\n",
      "    \"Return the Fibonacci sequence of length *sequence_length*\"\n",
      "    sequence = [0,1]\n",
      "    if sequence_length < 1:\n",
      "        print \"Fibonacci sequence only defined for length 1 or greater\"\n",
      "        return\n",
      "    if 0 < sequence_length < 3:\n",
      "        return sequence[:sequence_length]\n",
      "    for i in range(2,sequence_length): \n",
      "        sequence.append(sequence[i-1]+sequence[i-2])\n",
      "    return sequence"
     ],
     "language": "python",
     "metadata": {},
     "outputs": [],
     "prompt_number": 6
    },
    {
     "cell_type": "code",
     "collapsed": false,
     "input": [
      "help(fibonacci)"
     ],
     "language": "python",
     "metadata": {},
     "outputs": [
      {
       "output_type": "stream",
       "stream": "stdout",
       "text": [
        "Help on function fibonacci in module __main__:\n",
        "\n",
        "fibonacci(sequence_length)\n",
        "    Return the Fibonacci sequence of length *sequence_length*\n",
        "\n"
       ]
      }
     ],
     "prompt_number": 7
    },
    {
     "cell_type": "code",
     "collapsed": false,
     "input": [
      "fibonacci(10)"
     ],
     "language": "python",
     "metadata": {},
     "outputs": [
      {
       "metadata": {},
       "output_type": "pyout",
       "prompt_number": 8,
       "text": [
        "[0, 1, 1, 2, 3, 5, 8, 13, 21, 34]"
       ]
      }
     ],
     "prompt_number": 8
    },
    {
     "cell_type": "markdown",
     "metadata": {},
     "source": [
      "The following function shows several interesting features, including the ability to return multiple values as a tuple, and the idea of \"tuple assignment\", where objects are unpacked into variables (the first line after for)."
     ]
    },
    {
     "cell_type": "code",
     "collapsed": false,
     "input": [
      "positions = [\n",
      "             ('Bob',0.0,21.0),\n",
      "             ('Cat',2.5,13.1),\n",
      "             ('Dog',33.0,1.2)\n",
      "             ]\n",
      "def minmax(objects):\n",
      "    minx = 1e20 # These are set to really big numbers\n",
      "    miny = 1e20\n",
      "    for obj in objects:\n",
      "        name,x,y = obj\n",
      "        if x < minx: \n",
      "            minx = x\n",
      "        if y < miny:\n",
      "            miny = y\n",
      "    return minx,miny\n",
      "\n",
      "x,y = minmax(positions)\n",
      "print x,y"
     ],
     "language": "python",
     "metadata": {},
     "outputs": [
      {
       "output_type": "stream",
       "stream": "stdout",
       "text": [
        "0.0 1.2\n"
       ]
      }
     ],
     "prompt_number": 9
    },
    {
     "cell_type": "markdown",
     "metadata": {},
     "source": [
      "## Plotting with Matplotlib\n",
      "\n",
      "Matplotlib is a widely used library for plotting. We will go over it in more detail in a latter assignment, but here are some simple commands to get started.\n",
      "\n",
      "We have to first tell IPython to render the plots inline."
     ]
    },
    {
     "cell_type": "code",
     "collapsed": false,
     "input": [
      "# Render our plots inline\n",
      "%matplotlib inline\n",
      "\n",
      "# Import several libraries\n",
      "import matplotlib.pyplot as plt\n",
      "import numpy as np\n",
      "import pandas as pd"
     ],
     "language": "python",
     "metadata": {},
     "outputs": [],
     "prompt_number": 10
    },
    {
     "cell_type": "markdown",
     "metadata": {},
     "source": [
      "The key command is \"plot\", that can be called with just a list of values to begin with."
     ]
    },
    {
     "cell_type": "code",
     "collapsed": false,
     "input": [
      "plt.plot(fibonacci(10))"
     ],
     "language": "python",
     "metadata": {},
     "outputs": [
      {
       "metadata": {},
       "output_type": "pyout",
       "prompt_number": 11,
       "text": [
        "[<matplotlib.lines.Line2D at 0xb0967dac>]"
       ]
      },
      {
       "metadata": {},
       "output_type": "display_data",
       "png": "[encoded data removed]",
       "text": [
        "<matplotlib.figure.Figure at 0xb098bb4c>"
       ]
      }
     ],
     "prompt_number": 11
    },
    {
     "cell_type": "code",
     "collapsed": false,
     "input": [
      "# A more interesting example from http://matplotlib.org/gallery.html\n",
      "\n",
      "# Example data\n",
      "people = ('Tom', 'Dick', 'Harry', 'Slim', 'Jim')\n",
      "y_pos = np.arange(len(people))\n",
      "performance = 3 + 10 * np.random.rand(len(people))\n",
      "error = np.random.rand(len(people))\n",
      "\n",
      "plt.barh((y_pos), performance, xerr=error, align='center', alpha=0.4)\n",
      "plt.yticks(y_pos, people)\n",
      "plt.xlabel('Performance')\n",
      "plt.title('How fast do you want to go today?')\n",
      "\n",
      "plt.show()"
     ],
     "language": "python",
     "metadata": {},
     "outputs": [
      {
       "metadata": {},
       "output_type": "display_data",
       "png": "[encoded data removed]",
       "text": [
        "<matplotlib.figure.Figure at 0xb0dd2d8c>"
       ]
      }
     ],
     "prompt_number": 12
    },
    {
     "cell_type": "markdown",
     "metadata": {},
     "source": [
      "## Pandas and Reading CSV Files\n",
      "\n",
      "Pandas is a python library that offers data structures and operations for manipulating numerical tables and time series. It is one of most widely used libraries for data analysis. We will cover Pandas in more detail later; here are some basic commands.\n",
      "\n",
      "We have already imported pandas above."
     ]
    },
    {
     "cell_type": "code",
     "collapsed": false,
     "input": [
      "# The provided file contains data from 1 day from the Capital Bike Share website\n",
      "\n",
      "# Try parsing two of the columns as date\n",
      "data = pd.read_csv('Capital-Bike-Share-June-30-2014.csv', parse_dates = ['Start date', 'End date'])"
     ],
     "language": "python",
     "metadata": {},
     "outputs": [],
     "prompt_number": 13
    },
    {
     "cell_type": "code",
     "collapsed": false,
     "input": [
      "# Look at first 5 rows\n",
      "data[:5]"
     ],
     "language": "python",
     "metadata": {},
     "outputs": [
      {
       "html": [
        "<div style=\"max-height:1000px;max-width:1500px;overflow:auto;\">\n",
        "<table border=\"1\" class=\"dataframe\">\n",
        "  <thead>\n",
        "    <tr style=\"text-align: right;\">\n",
        "      <th></th>\n",
        "      <th>Duration</th>\n",
        "      <th>Start date</th>\n",
        "      <th>Start Station</th>\n",
        "      <th>Start terminal</th>\n",
        "      <th>End date</th>\n",
        "      <th>End Station</th>\n",
        "      <th>End terminal</th>\n",
        "      <th>Bike#</th>\n",
        "      <th>Subscriber Type</th>\n",
        "    </tr>\n",
        "  </thead>\n",
        "  <tbody>\n",
        "    <tr>\n",
        "      <th>0</th>\n",
        "      <td>  0h 7m 51s</td>\n",
        "      <td>2014-06-30 00:00:00</td>\n",
        "      <td>          37th &amp; O St NW / Georgetown University</td>\n",
        "      <td> 31236</td>\n",
        "      <td>2014-06-30 00:08:00</td>\n",
        "      <td> Rosslyn Metro / Wilson Blvd &amp; Ft Myer Dr</td>\n",
        "      <td> 31015</td>\n",
        "      <td> W00584</td>\n",
        "      <td> Registered</td>\n",
        "    </tr>\n",
        "    <tr>\n",
        "      <th>1</th>\n",
        "      <td> 12h 2m 56s</td>\n",
        "      <td>2014-06-30 00:00:00</td>\n",
        "      <td>                     Columbia Rd &amp; Belmont St NW</td>\n",
        "      <td> 31113</td>\n",
        "      <td>2014-06-30 12:03:00</td>\n",
        "      <td>                  Lamont &amp; Mt Pleasant NW</td>\n",
        "      <td> 31107</td>\n",
        "      <td> W01497</td>\n",
        "      <td> Registered</td>\n",
        "    </tr>\n",
        "    <tr>\n",
        "      <th>2</th>\n",
        "      <td> 0h 12m 51s</td>\n",
        "      <td>2014-06-30 00:01:00</td>\n",
        "      <td>                           17th &amp; Corcoran St NW</td>\n",
        "      <td> 31214</td>\n",
        "      <td>2014-06-30 00:14:00</td>\n",
        "      <td>                  Park Rd &amp; Holmead Pl NW</td>\n",
        "      <td> 31602</td>\n",
        "      <td> W01099</td>\n",
        "      <td> Registered</td>\n",
        "    </tr>\n",
        "    <tr>\n",
        "      <th>3</th>\n",
        "      <td> 0h 11m 46s</td>\n",
        "      <td>2014-06-30 00:01:00</td>\n",
        "      <td> Connecticut Ave &amp; Newark St NW / Cleveland Park</td>\n",
        "      <td> 31305</td>\n",
        "      <td>2014-06-30 00:12:00</td>\n",
        "      <td>               14th &amp; Rhode Island Ave NW</td>\n",
        "      <td> 31203</td>\n",
        "      <td> W21642</td>\n",
        "      <td> Registered</td>\n",
        "    </tr>\n",
        "    <tr>\n",
        "      <th>4</th>\n",
        "      <td>  0h 17m 5s</td>\n",
        "      <td>2014-06-30 00:01:00</td>\n",
        "      <td>                                   Thomas Circle</td>\n",
        "      <td> 31241</td>\n",
        "      <td>2014-06-30 00:18:00</td>\n",
        "      <td>                            7th &amp; T St NW</td>\n",
        "      <td> 31109</td>\n",
        "      <td> W00334</td>\n",
        "      <td> Registered</td>\n",
        "    </tr>\n",
        "  </tbody>\n",
        "</table>\n",
        "<p>5 rows \u00d7 9 columns</p>\n",
        "</div>"
       ],
       "metadata": {},
       "output_type": "pyout",
       "prompt_number": 14,
       "text": [
        "     Duration          Start date  \\\n",
        "0   0h 7m 51s 2014-06-30 00:00:00   \n",
        "1  12h 2m 56s 2014-06-30 00:00:00   \n",
        "2  0h 12m 51s 2014-06-30 00:01:00   \n",
        "3  0h 11m 46s 2014-06-30 00:01:00   \n",
        "4   0h 17m 5s 2014-06-30 00:01:00   \n",
        "\n",
        "                                     Start Station  Start terminal  \\\n",
        "0           37th & O St NW / Georgetown University           31236   \n",
        "1                      Columbia Rd & Belmont St NW           31113   \n",
        "2                            17th & Corcoran St NW           31214   \n",
        "3  Connecticut Ave & Newark St NW / Cleveland Park           31305   \n",
        "4                                    Thomas Circle           31241   \n",
        "\n",
        "             End date                               End Station  End terminal  \\\n",
        "0 2014-06-30 00:08:00  Rosslyn Metro / Wilson Blvd & Ft Myer Dr         31015   \n",
        "1 2014-06-30 12:03:00                   Lamont & Mt Pleasant NW         31107   \n",
        "2 2014-06-30 00:14:00                   Park Rd & Holmead Pl NW         31602   \n",
        "3 2014-06-30 00:12:00                14th & Rhode Island Ave NW         31203   \n",
        "4 2014-06-30 00:18:00                             7th & T St NW         31109   \n",
        "\n",
        "    Bike# Subscriber Type  \n",
        "0  W00584      Registered  \n",
        "1  W01497      Registered  \n",
        "2  W01099      Registered  \n",
        "3  W21642      Registered  \n",
        "4  W00334      Registered  \n",
        "\n",
        "[5 rows x 9 columns]"
       ]
      }
     ],
     "prompt_number": 14
    },
    {
     "cell_type": "code",
     "collapsed": false,
     "input": [
      "data.dtypes"
     ],
     "language": "python",
     "metadata": {},
     "outputs": [
      {
       "metadata": {},
       "output_type": "pyout",
       "prompt_number": 15,
       "text": [
        "Duration                   object\n",
        "Start date         datetime64[ns]\n",
        "Start Station              object\n",
        "Start terminal              int64\n",
        "End date           datetime64[ns]\n",
        "End Station                object\n",
        "End terminal              float64\n",
        "Bike#                      object\n",
        "Subscriber Type            object\n",
        "dtype: object"
       ]
      }
     ],
     "prompt_number": 15
    },
    {
     "cell_type": "code",
     "collapsed": false,
     "input": [
      "# The following command plots the cumulative number of rides till a time during the day\n",
      "plt.plot(data['Start date'], range(10604))"
     ],
     "language": "python",
     "metadata": {},
     "outputs": [
      {
       "metadata": {},
       "output_type": "pyout",
       "prompt_number": 16,
       "text": [
        "[<matplotlib.lines.Line2D at 0xb07d66ec>]"
       ]
      },
      {
       "metadata": {},
       "output_type": "display_data",
       "png": "[encoded data removed]",
       "text": [
        "<matplotlib.figure.Figure at 0xb0928a0c>"
       ]
      }
     ],
     "prompt_number": 16
    },
    {
     "cell_type": "markdown",
     "metadata": {},
     "source": [
      "The above is not very informative given the x-axis is unreadable, and also it is cumulative. Let's try to plot a bar chart with the number of rides started every hour.\n",
      "\n",
      "There is probably a better way to do the following -- I am not too deeply familiar with Pandas myself."
     ]
    },
    {
     "cell_type": "code",
     "collapsed": false,
     "input": [
      "hours = pd.DataFrame({'h' : [x.hour for x in data['Start date']]})\n",
      "g = hours.groupby('h')\n",
      "plt.bar(range(24), g['h'].count())"
     ],
     "language": "python",
     "metadata": {},
     "outputs": [
      {
       "ename": "NameError",
       "evalue": "name 'pd' is not defined",
       "output_type": "pyerr",
       "traceback": [
        "\u001b[0;31m---------------------------------------------------------------------------\u001b[0m\n\u001b[0;31mNameError\u001b[0m                                 Traceback (most recent call last)",
        "\u001b[0;32m<ipython-input-1-6a5c6bacdf0a>\u001b[0m in \u001b[0;36m<module>\u001b[0;34m()\u001b[0m\n\u001b[0;32m----> 1\u001b[0;31m \u001b[0mhours\u001b[0m \u001b[0;34m=\u001b[0m \u001b[0mpd\u001b[0m\u001b[0;34m.\u001b[0m\u001b[0mDataFrame\u001b[0m\u001b[0;34m(\u001b[0m\u001b[0;34m{\u001b[0m\u001b[0;34m'h'\u001b[0m \u001b[0;34m:\u001b[0m \u001b[0;34m[\u001b[0m\u001b[0mx\u001b[0m\u001b[0;34m.\u001b[0m\u001b[0mhour\u001b[0m \u001b[0;32mfor\u001b[0m \u001b[0mx\u001b[0m \u001b[0;32min\u001b[0m \u001b[0mdata\u001b[0m\u001b[0;34m[\u001b[0m\u001b[0;34m'Start date'\u001b[0m\u001b[0;34m]\u001b[0m\u001b[0;34m]\u001b[0m\u001b[0;34m}\u001b[0m\u001b[0;34m)\u001b[0m\u001b[0;34m\u001b[0m\u001b[0m\n\u001b[0m\u001b[1;32m      2\u001b[0m \u001b[0mg\u001b[0m \u001b[0;34m=\u001b[0m \u001b[0mhours\u001b[0m\u001b[0;34m.\u001b[0m\u001b[0mgroupby\u001b[0m\u001b[0;34m(\u001b[0m\u001b[0;34m'h'\u001b[0m\u001b[0;34m)\u001b[0m\u001b[0;34m\u001b[0m\u001b[0m\n\u001b[1;32m      3\u001b[0m \u001b[0mplt\u001b[0m\u001b[0;34m.\u001b[0m\u001b[0mbar\u001b[0m\u001b[0;34m(\u001b[0m\u001b[0mrange\u001b[0m\u001b[0;34m(\u001b[0m\u001b[0;36m24\u001b[0m\u001b[0;34m)\u001b[0m\u001b[0;34m,\u001b[0m \u001b[0mg\u001b[0m\u001b[0;34m[\u001b[0m\u001b[0;34m'h'\u001b[0m\u001b[0;34m]\u001b[0m\u001b[0;34m.\u001b[0m\u001b[0mcount\u001b[0m\u001b[0;34m(\u001b[0m\u001b[0;34m)\u001b[0m\u001b[0;34m)\u001b[0m\u001b[0;34m\u001b[0m\u001b[0m\n",
        "\u001b[0;31mNameError\u001b[0m: name 'pd' is not defined"
       ]
      }
     ],
     "prompt_number": 1
    },
    {
     "cell_type": "code",
     "collapsed": false,
     "input": [],
     "language": "python",
     "metadata": {},
     "outputs": []
    }
   ],
   "metadata": {}
  }
 ]
}