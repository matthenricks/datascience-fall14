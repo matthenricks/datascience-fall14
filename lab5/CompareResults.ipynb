{
 "metadata": {
  "name": ""
 },
 "nbformat": 3,
 "nbformat_minor": 0,
 "worksheets": [
  {
   "cells": [
    {
     "cell_type": "code",
     "collapsed": false,
     "input": [
      "import csv\n",
      "import collections\n",
      "import itertools\n",
      "import os"
     ],
     "language": "python",
     "metadata": {},
     "outputs": [],
     "prompt_number": 1
    },
    {
     "cell_type": "code",
     "collapsed": false,
     "input": [
      "def evaluateDuplicates(found_dupes, true_dupes):\n",
      "    true_positives = found_dupes.intersection(true_dupes)\n",
      "    false_positives = found_dupes.difference(true_dupes)\n",
      "    uncovered_dupes = true_dupes.difference(found_dupes)\n",
      "    print 'found duplicate'\n",
      "    print len(found_dupes)\n",
      "    print 'precision'\n",
      "    print 1 - len(false_positives) / float(len(found_dupes))\n",
      "    print 'recall'\n",
      "    print len(true_positives) / float(len(true_dupes))"
     ],
     "language": "python",
     "metadata": {},
     "outputs": [],
     "prompt_number": 2
    },
    {
     "cell_type": "code",
     "collapsed": false,
     "input": [
      "trueCluster = 'product_mapping.csv'\n",
      "true_dupes = set([])\n",
      "#test_box = {}\n",
      "\n",
      "with open(trueCluster) as f:\n",
      "    reader = csv.DictReader(f, delimiter=',', quotechar='\"')\n",
      "    for i, row in enumerate(reader):\n",
      "        # Checking if the relationship is a 1-1... It's not, it's a many-many :D\n",
      "#        if test_box.has_key(row['idAmazon']):\n",
      "#            test_box[row['idAmazon']] += 1\n",
      "#        else:\n",
      "#            test_box[row['idAmazon']] = 1\n",
      "#            \n",
      "#        if test_box.has_key(row['idGoogleBase']):\n",
      "#            test_box[row['idGoogleBase']] += 1\n",
      "#        else:\n",
      "#            test_box[row['idGoogleBase']] = 1\n",
      "        \n",
      "        true_dupes.add(frozenset([row['idAmazon'], row['idGoogleBase']]))\n",
      "        \n",
      "#for (iid, count) in test_box.iteritems():\n",
      "#    if count > 1:\n",
      "#        print iid, count"
     ],
     "language": "python",
     "metadata": {},
     "outputs": [],
     "prompt_number": 3
    },
    {
     "cell_type": "code",
     "collapsed": false,
     "input": [
      "# Read through the values and take the columns necessary. Have two sets: cluster, G; and cluster, A; Merge the two after\n",
      "# Unknown if canon will exist or not depending on the amount within the cluster. I'll be it won't if \n",
      "def process_clusters(filepath):\n",
      "    clustersAma = {}\n",
      "    clustersGoog = {}\n",
      "    with open(filepath) as f:\n",
      "        reader = csv.DictReader(f, delimiter=',', quotechar='\"')\n",
      "        for i, row in enumerate(reader):\n",
      "            # print row\n",
      "            if row['source'] == 'amazon':\n",
      "                if clustersAma.has_key(row['Cluster ID']):\n",
      "                    clustersAma[row['Cluster ID']].add(row['id'])\n",
      "                else:\n",
      "                    clustersAma[row['Cluster ID']] = set([row['id']])\n",
      "            else:\n",
      "                if clustersGoog.has_key(row['Cluster ID']):\n",
      "                    clustersGoog[row['Cluster ID']].add(row['id'])\n",
      "                else:\n",
      "                    clustersGoog[row['Cluster ID']] = set([row['id']])\n",
      "\n",
      "    # Now, run through the clusters and create the pairs\n",
      "    approx_set = set([])\n",
      "    for (clusterID, amazonSet) in clustersAma.iteritems():\n",
      "        if clustersGoog.has_key(clusterID):            \n",
      "            googleSet = clustersGoog[clusterID]\n",
      "            for sset in itertools.product(amazonSet, googleSet):\n",
      "                approx_set.add(frozenset(sset))                \n",
      "    \n",
      "    return approx_set\n",
      "            \n",
      "test_dupes = process_clusters('products_out.csv')"
     ],
     "language": "python",
     "metadata": {},
     "outputs": [],
     "prompt_number": 4
    },
    {
     "cell_type": "code",
     "collapsed": false,
     "input": [
      "evaluateDuplicates(test_dupes, true_dupes)"
     ],
     "language": "python",
     "metadata": {},
     "outputs": [
      {
       "output_type": "stream",
       "stream": "stdout",
       "text": [
        "found duplicate\n",
        "670\n",
        "precision\n",
        "0.302985074627\n",
        "recall\n",
        "0.156153846154\n"
       ]
      }
     ],
     "prompt_number": 5
    },
    {
     "cell_type": "code",
     "collapsed": false,
     "input": [],
     "language": "python",
     "metadata": {},
     "outputs": []
    }
   ],
   "metadata": {}
  }
 ]
}